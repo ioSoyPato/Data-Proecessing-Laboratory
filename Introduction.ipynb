{
 "cells": [
  {
   "cell_type": "markdown",
   "id": "70782451",
   "metadata": {},
   "source": [
    "# Introduction\n",
    "\n",
    "#### __All the information compiled in this notebook was provided by the professor \"ROMERO BARRAGAN RAUL\"__\n",
    "\n",
    "## <font color='darkblue'>Basic Python Tools</font>"
   ]
  },
  {
   "cell_type": "markdown",
   "id": "fbe98457",
   "metadata": {},
   "source": [
    "# Getting Started with Notebooks\n",
    "\n",
    "This is a Jupyter notebook.\n",
    "\n",
    "It serves as a space where you can write code and immediately see the results (whether it's code, plots, or other outputs) but also write text, insert images, formulas, etc.\n",
    "\n",
    " \n",
    " "
   ]
  },
  {
   "cell_type": "markdown",
   "id": "4774ff84",
   "metadata": {},
   "source": [
    "### Equations\n",
    "\n",
    "We can add equations in Jupyter using $\\LaTeX$.\n",
    "\n",
    "With the following code in the `Raw NBConvert` cell type, we would generate two equations:\n",
    "\n",
    "$\\LaTeX$\n",
    " "
   ]
  },
  {
   "cell_type": "raw",
   "id": "806949a1",
   "metadata": {},
   "source": [
    "\n",
    "\\begin{align}\n",
    "    \\begin{split}\n",
    "        y &= mx + b \\\\\n",
    "        x &= \\frac{y - b}{m}\n",
    "    \\end{split}\n",
    "\\end{align}\n"
   ]
  },
  {
   "cell_type": "markdown",
   "id": "e7e1f94c",
   "metadata": {},
   "source": [
    "\\begin{align}\n",
    "    \\begin{split}\n",
    "        y &= mx + b \\\\\n",
    "        x &= \\frac{y - b}{m}\n",
    "    \\end{split}\n",
    "\\end{align}\n"
   ]
  },
  {
   "cell_type": "markdown",
   "id": "52a84df7",
   "metadata": {},
   "source": [
    "### Text in Different Sizes\n",
    "\n",
    "We can write \"normal\" text and also titles using the `#` symbol.\n"
   ]
  },
  {
   "cell_type": "raw",
   "id": "075a5bfc",
   "metadata": {},
   "source": [
    "Normal text\n",
    "\n",
    "# Title\n",
    "\n",
    "### Title\n",
    "\n",
    "#### Another title\n",
    "\n",
    "###### Another title"
   ]
  },
  {
   "cell_type": "markdown",
   "id": "69aab644",
   "metadata": {},
   "source": [
    "Normal text\n",
    "\n",
    "# Title\n",
    "\n",
    "## Title\n",
    "\n",
    "### Another title\n",
    "\n",
    "#### Another title"
   ]
  },
  {
   "cell_type": "markdown",
   "id": "3fdf43fc",
   "metadata": {},
   "source": [
    "### Code\n",
    "\n",
    "This notebook has a Python kernel. In short, that allows us to run Python in this notebook."
   ]
  },
  {
   "cell_type": "markdown",
   "id": "23d8aa31",
   "metadata": {},
   "source": [
    "### Basic Data Types\n",
    "* Strings (`str`).\n",
    "* Numbers\n",
    "    * Integers (`int`).\n",
    "    * Floats (`float`).\n",
    "* Sequences\n",
    "    * Lists (represented by `[...]`).\n",
    "    * Tuples (represented by `(...)`).\n",
    "    * Ranges (represented by `range`). \n",
    "* Mapping\n",
    "    * Dictionaries (represented by `{...}`)\n",
    "* Booleans\n"
   ]
  },
  {
   "cell_type": "markdown",
   "id": "a2050f38",
   "metadata": {},
   "source": [
    "#### List/dict comprehension\n",
    "\n",
    "This is one of the _Pythonic_ ways of working because it allows us to mix loops and generate some of these objects simultaneously.\n"
   ]
  },
  {
   "cell_type": "code",
   "execution_count": 1,
   "id": "f6329ba2",
   "metadata": {},
   "outputs": [
    {
     "data": {
      "text/plain": [
       "[2, 4, 6, 8]"
      ]
     },
     "execution_count": 1,
     "metadata": {},
     "output_type": "execute_result"
    }
   ],
   "source": [
    "# Lista\n",
    "lista = [1,2,3,4]\n",
    "[x * 2 for x in lista]"
   ]
  },
  {
   "cell_type": "code",
   "execution_count": 2,
   "id": "8923041e",
   "metadata": {},
   "outputs": [
    {
     "data": {
      "text/plain": [
       "{'0': 2, '1': 4, '2': 6, '3': 8}"
      ]
     },
     "execution_count": 2,
     "metadata": {},
     "output_type": "execute_result"
    }
   ],
   "source": [
    "# Diccionario\n",
    "{str(posicion): valor * 2 for posicion, valor in enumerate(lista)}"
   ]
  },
  {
   "cell_type": "markdown",
   "id": "907c03be",
   "metadata": {},
   "source": [
    "## Introducing Main Libraries: Pandas, Numpy, and Matplotlib\n",
    "\n",
    "### Pandas \n",
    "\n",
    "_Pandas_ is a library that allows us to handle data in a tabular form. \n",
    "\n",
    "The objects provided by Pandas are instantiable with various functionalities, ranging from basic ones like _mean, sum, absolute values_, among others, to more complex functions such as various plots, data description, etc. \n",
    "\n",
    "The basic object in Pandas is a _pandas.DataFrame_. This is a tabular way of viewing information that consists of rows and columns, and these can be of multiple types.\n",
    "\n",
    "More in the official documentation: [Pandas Documentation](https://pandas.pydata.org/docs/) \n",
    "Repository: [Pandas GitHub](https://github.com/pandas-dev/pandas)\n"
   ]
  },
  {
   "cell_type": "code",
   "execution_count": 3,
   "id": "46de7f98",
   "metadata": {},
   "outputs": [
    {
     "data": {
      "text/html": [
       "<div>\n",
       "<style scoped>\n",
       "    .dataframe tbody tr th:only-of-type {\n",
       "        vertical-align: middle;\n",
       "    }\n",
       "\n",
       "    .dataframe tbody tr th {\n",
       "        vertical-align: top;\n",
       "    }\n",
       "\n",
       "    .dataframe thead th {\n",
       "        text-align: right;\n",
       "    }\n",
       "</style>\n",
       "<table border=\"1\" class=\"dataframe\">\n",
       "  <thead>\n",
       "    <tr style=\"text-align: right;\">\n",
       "      <th></th>\n",
       "      <th>col_numeric</th>\n",
       "      <th>col_text</th>\n",
       "      <th>col_booleans</th>\n",
       "      <th>col_dates</th>\n",
       "    </tr>\n",
       "  </thead>\n",
       "  <tbody>\n",
       "    <tr>\n",
       "      <th>0</th>\n",
       "      <td>1</td>\n",
       "      <td>text1</td>\n",
       "      <td>True</td>\n",
       "      <td>2020-07-28</td>\n",
       "    </tr>\n",
       "    <tr>\n",
       "      <th>1</th>\n",
       "      <td>2</td>\n",
       "      <td>text2</td>\n",
       "      <td>True</td>\n",
       "      <td>2020-07-29</td>\n",
       "    </tr>\n",
       "    <tr>\n",
       "      <th>2</th>\n",
       "      <td>-3</td>\n",
       "      <td>text3</td>\n",
       "      <td>False</td>\n",
       "      <td>2020-07-30</td>\n",
       "    </tr>\n",
       "    <tr>\n",
       "      <th>3</th>\n",
       "      <td>4</td>\n",
       "      <td>text4</td>\n",
       "      <td>True</td>\n",
       "      <td>2020-07-31</td>\n",
       "    </tr>\n",
       "    <tr>\n",
       "      <th>4</th>\n",
       "      <td>-5</td>\n",
       "      <td>text5</td>\n",
       "      <td>False</td>\n",
       "      <td>2020-07-28</td>\n",
       "    </tr>\n",
       "  </tbody>\n",
       "</table>\n",
       "</div>"
      ],
      "text/plain": [
       "   col_numeric col_text  col_booleans   col_dates\n",
       "0            1    text1          True  2020-07-28\n",
       "1            2    text2          True  2020-07-29\n",
       "2           -3    text3         False  2020-07-30\n",
       "3            4    text4          True  2020-07-31\n",
       "4           -5    text5         False  2020-07-28"
      ]
     },
     "execution_count": 3,
     "metadata": {},
     "output_type": "execute_result"
    }
   ],
   "source": [
    "# Import a library for generating dates\n",
    "import datetime\n",
    "\n",
    "# Import the pandas library\n",
    "import pandas as pd\n",
    "\n",
    "# Generate a dictionary with different data types.\n",
    "raw_data = {'col_numeric': [1, 2, -3, 4, -5],\n",
    "            'col_text': ['text1', 'text2', 'text3', 'text4', 'text5'],\n",
    "            'col_booleans': [True, True, False, True, False],\n",
    "            'col_dates': [datetime.date(2020, 7, 28), datetime.date(2020, 7, 29),\n",
    "                           datetime.date(2020, 7, 30), datetime.date(2020, 7, 31),\n",
    "                           datetime.date(2020, 7, 28)]}\n",
    "\n",
    "# Print our dictionary\n",
    "\n",
    "## print(raw_data)\n",
    "\n",
    "# Generate a table with pandas from that dictionary\n",
    "df = pd.DataFrame(raw_data)\n",
    "df"
   ]
  },
  {
   "cell_type": "code",
   "execution_count": 4,
   "id": "744cbdfc",
   "metadata": {},
   "outputs": [
    {
     "data": {
      "text/plain": [
       "col_numeric      int64\n",
       "col_text        object\n",
       "col_booleans      bool\n",
       "col_dates       object\n",
       "dtype: object"
      ]
     },
     "execution_count": 4,
     "metadata": {},
     "output_type": "execute_result"
    }
   ],
   "source": [
    "# Check the dtypes\n",
    "df.dtypes"
   ]
  },
  {
   "cell_type": "code",
   "execution_count": 5,
   "id": "c9daf19f",
   "metadata": {},
   "outputs": [
    {
     "data": {
      "text/plain": [
       "pandas.core.frame.DataFrame"
      ]
     },
     "execution_count": 5,
     "metadata": {},
     "output_type": "execute_result"
    }
   ],
   "source": [
    "# data frame type\n",
    "type(df)"
   ]
  },
  {
   "cell_type": "markdown",
   "id": "1fd470cc",
   "metadata": {},
   "source": [
    "#### Basic Operations with Pandas\n",
    "`Pandas` allows us to perform calculations very easily, applicable to all values by column or by row even.\n",
    "\n",
    "Suppose we want to access different columns; we can do it in two different ways:\n",
    "\n",
    "* With the column name in quotes.\n",
    "* With the column name preceded and followed by dots."
   ]
  },
  {
   "cell_type": "code",
   "execution_count": 6,
   "id": "50e472be",
   "metadata": {},
   "outputs": [],
   "source": [
    "df = pd.DataFrame({\"value\": [3, 1, 2, None, 4, 5, 7, 9],\n",
    "                   'user': ['a', 'a', 'b', 'b', 'c', 'a', 'b', 'c'],\n",
    "                  'date': [datetime.date(2020, 7, 28), datetime.date(2020, 7, 29),\n",
    "                           datetime.date(2020, 7, 30), datetime.date(2020, 7, 31),\n",
    "                          datetime.date(2020, 7, 28),\n",
    "                          datetime.date(2020, 8, 28),\n",
    "                          datetime.date(2020, 9, 28),\n",
    "                          datetime.date(2020, 10, 28)]})"
   ]
  },
  {
   "cell_type": "code",
   "execution_count": 7,
   "id": "ccbb6c19",
   "metadata": {},
   "outputs": [
    {
     "data": {
      "text/html": [
       "<div>\n",
       "<style scoped>\n",
       "    .dataframe tbody tr th:only-of-type {\n",
       "        vertical-align: middle;\n",
       "    }\n",
       "\n",
       "    .dataframe tbody tr th {\n",
       "        vertical-align: top;\n",
       "    }\n",
       "\n",
       "    .dataframe thead th {\n",
       "        text-align: right;\n",
       "    }\n",
       "</style>\n",
       "<table border=\"1\" class=\"dataframe\">\n",
       "  <thead>\n",
       "    <tr style=\"text-align: right;\">\n",
       "      <th></th>\n",
       "      <th>value</th>\n",
       "      <th>user</th>\n",
       "      <th>date</th>\n",
       "    </tr>\n",
       "  </thead>\n",
       "  <tbody>\n",
       "    <tr>\n",
       "      <th>0</th>\n",
       "      <td>3.0</td>\n",
       "      <td>a</td>\n",
       "      <td>2020-07-28</td>\n",
       "    </tr>\n",
       "    <tr>\n",
       "      <th>1</th>\n",
       "      <td>1.0</td>\n",
       "      <td>a</td>\n",
       "      <td>2020-07-29</td>\n",
       "    </tr>\n",
       "    <tr>\n",
       "      <th>2</th>\n",
       "      <td>2.0</td>\n",
       "      <td>b</td>\n",
       "      <td>2020-07-30</td>\n",
       "    </tr>\n",
       "    <tr>\n",
       "      <th>3</th>\n",
       "      <td>NaN</td>\n",
       "      <td>b</td>\n",
       "      <td>2020-07-31</td>\n",
       "    </tr>\n",
       "    <tr>\n",
       "      <th>4</th>\n",
       "      <td>4.0</td>\n",
       "      <td>c</td>\n",
       "      <td>2020-07-28</td>\n",
       "    </tr>\n",
       "    <tr>\n",
       "      <th>5</th>\n",
       "      <td>5.0</td>\n",
       "      <td>a</td>\n",
       "      <td>2020-08-28</td>\n",
       "    </tr>\n",
       "    <tr>\n",
       "      <th>6</th>\n",
       "      <td>7.0</td>\n",
       "      <td>b</td>\n",
       "      <td>2020-09-28</td>\n",
       "    </tr>\n",
       "    <tr>\n",
       "      <th>7</th>\n",
       "      <td>9.0</td>\n",
       "      <td>c</td>\n",
       "      <td>2020-10-28</td>\n",
       "    </tr>\n",
       "  </tbody>\n",
       "</table>\n",
       "</div>"
      ],
      "text/plain": [
       "   value user        date\n",
       "0    3.0    a  2020-07-28\n",
       "1    1.0    a  2020-07-29\n",
       "2    2.0    b  2020-07-30\n",
       "3    NaN    b  2020-07-31\n",
       "4    4.0    c  2020-07-28\n",
       "5    5.0    a  2020-08-28\n",
       "6    7.0    b  2020-09-28\n",
       "7    9.0    c  2020-10-28"
      ]
     },
     "execution_count": 7,
     "metadata": {},
     "output_type": "execute_result"
    }
   ],
   "source": [
    "df"
   ]
  },
  {
   "cell_type": "markdown",
   "id": "1049f80d",
   "metadata": {},
   "source": [
    "Mean"
   ]
  },
  {
   "cell_type": "code",
   "execution_count": 8,
   "id": "87045f80",
   "metadata": {},
   "outputs": [
    {
     "data": {
      "text/plain": [
       "4.428571428571429"
      ]
     },
     "execution_count": 8,
     "metadata": {},
     "output_type": "execute_result"
    }
   ],
   "source": [
    "df['value'].mean()"
   ]
  },
  {
   "cell_type": "code",
   "execution_count": 9,
   "id": "c377fb45",
   "metadata": {},
   "outputs": [
    {
     "data": {
      "text/plain": [
       "4.428571428571429"
      ]
     },
     "execution_count": 9,
     "metadata": {},
     "output_type": "execute_result"
    }
   ],
   "source": [
    "df.value.mean()"
   ]
  },
  {
   "cell_type": "markdown",
   "id": "9e035662",
   "metadata": {},
   "source": [
    "Median"
   ]
  },
  {
   "cell_type": "code",
   "execution_count": 10,
   "id": "3f9aed50",
   "metadata": {},
   "outputs": [
    {
     "data": {
      "text/plain": [
       "4.0"
      ]
     },
     "execution_count": 10,
     "metadata": {},
     "output_type": "execute_result"
    }
   ],
   "source": [
    "df.value.median()"
   ]
  },
  {
   "cell_type": "markdown",
   "id": "fb3e50a1",
   "metadata": {},
   "source": [
    "Count "
   ]
  },
  {
   "cell_type": "code",
   "execution_count": 11,
   "id": "cb6637af",
   "metadata": {},
   "outputs": [
    {
     "data": {
      "text/plain": [
       "7"
      ]
     },
     "execution_count": 11,
     "metadata": {},
     "output_type": "execute_result"
    }
   ],
   "source": [
    "df.value.count()"
   ]
  },
  {
   "cell_type": "markdown",
   "id": "cec904ac",
   "metadata": {},
   "source": [
    "Median of the absolutes"
   ]
  },
  {
   "cell_type": "code",
   "execution_count": 12,
   "id": "fcddf0ff",
   "metadata": {},
   "outputs": [
    {
     "data": {
      "text/plain": [
       "4.0"
      ]
     },
     "execution_count": 12,
     "metadata": {},
     "output_type": "execute_result"
    }
   ],
   "source": [
    "df.value.abs().median()"
   ]
  },
  {
   "cell_type": "markdown",
   "id": "e5745753",
   "metadata": {},
   "source": [
    "We can also access specific coordinates. There are two main methods: `loc` and `iloc`.\n",
    "\n",
    "* `loc`\n",
    "    * Allows us to access via indices, i.e., with the \"indicator\" of each row.\n",
    "    * Allows us to access by the direct name of columns.\n",
    "* `iloc`\n",
    "    * Allows us to access by positions regardless of the name of the index or column."
   ]
  },
  {
   "cell_type": "code",
   "execution_count": 13,
   "id": "f31e1657",
   "metadata": {},
   "outputs": [
    {
     "data": {
      "text/plain": [
       "'a'"
      ]
     },
     "execution_count": 13,
     "metadata": {},
     "output_type": "execute_result"
    }
   ],
   "source": [
    "# Acces the matrix using loc\n",
    "df.loc[0, 'user']"
   ]
  },
  {
   "cell_type": "code",
   "execution_count": 14,
   "id": "ee663d6f",
   "metadata": {},
   "outputs": [
    {
     "data": {
      "text/plain": [
       "'a'"
      ]
     },
     "execution_count": 14,
     "metadata": {},
     "output_type": "execute_result"
    }
   ],
   "source": [
    "# Acces using iloc\n",
    "df.iloc[0, 1]"
   ]
  },
  {
   "cell_type": "markdown",
   "id": "5ff22d1e",
   "metadata": {},
   "source": [
    "So far, we have used some of the most basic components of Pandas. Next, we will explore other tools commonly used in data science:\n",
    "\n",
    "* `Groupby` + `Aggregate`.\n",
    "* `Mask`.\n",
    "* `Shift`.\n",
    "* `Expanding`.\n",
    "* `Apply`."
   ]
  },
  {
   "cell_type": "markdown",
   "id": "d988ae0a",
   "metadata": {},
   "source": [
    "#### `Groupby` + `Aggregate`\n",
    "\n",
    "Como su nombre lo dice, `groupby` nos ayudará a agrupar. Podremos a partir de cierta agrupación calcular cosas de manera masiva y sin tener que hacer loops o algo por el estilo. "
   ]
  },
  {
   "cell_type": "code",
   "execution_count": 15,
   "id": "b0d582d3",
   "metadata": {},
   "outputs": [
    {
     "data": {
      "text/plain": [
       "<pandas.core.groupby.generic.DataFrameGroupBy object at 0x00000254B63541F0>"
      ]
     },
     "execution_count": 15,
     "metadata": {},
     "output_type": "execute_result"
    }
   ],
   "source": [
    "# groupby user\n",
    "grouped = df.groupby('user')\n",
    "grouped"
   ]
  },
  {
   "cell_type": "markdown",
   "id": "980ecd24",
   "metadata": {},
   "source": [
    "We create an object on which we can perform calculations with (1) `aggregate` or without it.\n",
    "\n",
    "The format with `aggregate` will be like this: `{column(s): function(s)}`. If multiple columns or functions are provided, we can use `dict comprehension` for efficient filling."
   ]
  },
  {
   "cell_type": "code",
   "execution_count": 16,
   "id": "58f082a4",
   "metadata": {},
   "outputs": [
    {
     "data": {
      "text/html": [
       "<div>\n",
       "<style scoped>\n",
       "    .dataframe tbody tr th:only-of-type {\n",
       "        vertical-align: middle;\n",
       "    }\n",
       "\n",
       "    .dataframe tbody tr th {\n",
       "        vertical-align: top;\n",
       "    }\n",
       "\n",
       "    .dataframe thead tr th {\n",
       "        text-align: left;\n",
       "    }\n",
       "\n",
       "    .dataframe thead tr:last-of-type th {\n",
       "        text-align: right;\n",
       "    }\n",
       "</style>\n",
       "<table border=\"1\" class=\"dataframe\">\n",
       "  <thead>\n",
       "    <tr>\n",
       "      <th></th>\n",
       "      <th colspan=\"2\" halign=\"left\">value</th>\n",
       "      <th>date</th>\n",
       "    </tr>\n",
       "    <tr>\n",
       "      <th></th>\n",
       "      <th>mean</th>\n",
       "      <th>median</th>\n",
       "      <th>count</th>\n",
       "    </tr>\n",
       "    <tr>\n",
       "      <th>user</th>\n",
       "      <th></th>\n",
       "      <th></th>\n",
       "      <th></th>\n",
       "    </tr>\n",
       "  </thead>\n",
       "  <tbody>\n",
       "    <tr>\n",
       "      <th>a</th>\n",
       "      <td>3.0</td>\n",
       "      <td>3.0</td>\n",
       "      <td>3</td>\n",
       "    </tr>\n",
       "    <tr>\n",
       "      <th>b</th>\n",
       "      <td>4.5</td>\n",
       "      <td>4.5</td>\n",
       "      <td>3</td>\n",
       "    </tr>\n",
       "    <tr>\n",
       "      <th>c</th>\n",
       "      <td>6.5</td>\n",
       "      <td>6.5</td>\n",
       "      <td>2</td>\n",
       "    </tr>\n",
       "  </tbody>\n",
       "</table>\n",
       "</div>"
      ],
      "text/plain": [
       "     value         date\n",
       "      mean median count\n",
       "user                   \n",
       "a      3.0    3.0     3\n",
       "b      4.5    4.5     3\n",
       "c      6.5    6.5     2"
      ]
     },
     "execution_count": 16,
     "metadata": {},
     "output_type": "execute_result"
    }
   ],
   "source": [
    "# with aggregate\n",
    "grouped.agg({'value': ['mean', 'median'], \n",
    "             'date': 'count'})"
   ]
  },
  {
   "cell_type": "markdown",
   "id": "150d653e",
   "metadata": {},
   "source": [
    "We can choose not to use `aggregate`, but this will imply using a single function, and the readability may be a bit challenging."
   ]
  },
  {
   "cell_type": "code",
   "execution_count": 17,
   "id": "1fd09baa",
   "metadata": {},
   "outputs": [
    {
     "data": {
      "text/plain": [
       "user\n",
       "a    3.0\n",
       "b    4.5\n",
       "c    6.5\n",
       "Name: value, dtype: float64"
      ]
     },
     "execution_count": 17,
     "metadata": {},
     "output_type": "execute_result"
    }
   ],
   "source": [
    "# without aggregate\n",
    "grouped['value'].mean()"
   ]
  },
  {
   "cell_type": "markdown",
   "id": "a49be650",
   "metadata": {},
   "source": [
    "#### `Mask`\n",
    "\n",
    "This command helps us replace values **given a condition.**"
   ]
  },
  {
   "cell_type": "code",
   "execution_count": 18,
   "id": "00af0059",
   "metadata": {},
   "outputs": [
    {
     "data": {
      "text/html": [
       "<div>\n",
       "<style scoped>\n",
       "    .dataframe tbody tr th:only-of-type {\n",
       "        vertical-align: middle;\n",
       "    }\n",
       "\n",
       "    .dataframe tbody tr th {\n",
       "        vertical-align: top;\n",
       "    }\n",
       "\n",
       "    .dataframe thead th {\n",
       "        text-align: right;\n",
       "    }\n",
       "</style>\n",
       "<table border=\"1\" class=\"dataframe\">\n",
       "  <thead>\n",
       "    <tr style=\"text-align: right;\">\n",
       "      <th></th>\n",
       "      <th>value</th>\n",
       "      <th>user</th>\n",
       "      <th>date</th>\n",
       "    </tr>\n",
       "  </thead>\n",
       "  <tbody>\n",
       "    <tr>\n",
       "      <th>0</th>\n",
       "      <td>3.0</td>\n",
       "      <td>a</td>\n",
       "      <td>2020-07-28</td>\n",
       "    </tr>\n",
       "    <tr>\n",
       "      <th>1</th>\n",
       "      <td>1.0</td>\n",
       "      <td>a</td>\n",
       "      <td>2020-07-29</td>\n",
       "    </tr>\n",
       "    <tr>\n",
       "      <th>2</th>\n",
       "      <td>2.0</td>\n",
       "      <td>b</td>\n",
       "      <td>2020-07-30</td>\n",
       "    </tr>\n",
       "    <tr>\n",
       "      <th>3</th>\n",
       "      <td>NaN</td>\n",
       "      <td>b</td>\n",
       "      <td>2020-07-31</td>\n",
       "    </tr>\n",
       "    <tr>\n",
       "      <th>4</th>\n",
       "      <td>4.0</td>\n",
       "      <td>c</td>\n",
       "      <td>2020-07-28</td>\n",
       "    </tr>\n",
       "    <tr>\n",
       "      <th>5</th>\n",
       "      <td>5.0</td>\n",
       "      <td>a</td>\n",
       "      <td>2020-08-28</td>\n",
       "    </tr>\n",
       "    <tr>\n",
       "      <th>6</th>\n",
       "      <td>7.0</td>\n",
       "      <td>b</td>\n",
       "      <td>2020-09-28</td>\n",
       "    </tr>\n",
       "    <tr>\n",
       "      <th>7</th>\n",
       "      <td>9.0</td>\n",
       "      <td>c</td>\n",
       "      <td>2020-10-28</td>\n",
       "    </tr>\n",
       "  </tbody>\n",
       "</table>\n",
       "</div>"
      ],
      "text/plain": [
       "   value user        date\n",
       "0    3.0    a  2020-07-28\n",
       "1    1.0    a  2020-07-29\n",
       "2    2.0    b  2020-07-30\n",
       "3    NaN    b  2020-07-31\n",
       "4    4.0    c  2020-07-28\n",
       "5    5.0    a  2020-08-28\n",
       "6    7.0    b  2020-09-28\n",
       "7    9.0    c  2020-10-28"
      ]
     },
     "execution_count": 18,
     "metadata": {},
     "output_type": "execute_result"
    }
   ],
   "source": [
    "# Create a copy before\n",
    "copy = df.copy()\n",
    "copy"
   ]
  },
  {
   "cell_type": "code",
   "execution_count": 19,
   "id": "86f128db",
   "metadata": {},
   "outputs": [
    {
     "data": {
      "text/html": [
       "<div>\n",
       "<style scoped>\n",
       "    .dataframe tbody tr th:only-of-type {\n",
       "        vertical-align: middle;\n",
       "    }\n",
       "\n",
       "    .dataframe tbody tr th {\n",
       "        vertical-align: top;\n",
       "    }\n",
       "\n",
       "    .dataframe thead th {\n",
       "        text-align: right;\n",
       "    }\n",
       "</style>\n",
       "<table border=\"1\" class=\"dataframe\">\n",
       "  <thead>\n",
       "    <tr style=\"text-align: right;\">\n",
       "      <th></th>\n",
       "      <th>value</th>\n",
       "      <th>user</th>\n",
       "      <th>date</th>\n",
       "    </tr>\n",
       "  </thead>\n",
       "  <tbody>\n",
       "    <tr>\n",
       "      <th>0</th>\n",
       "      <td>3.0</td>\n",
       "      <td>a</td>\n",
       "      <td>2020-07-28</td>\n",
       "    </tr>\n",
       "    <tr>\n",
       "      <th>1</th>\n",
       "      <td>1.0</td>\n",
       "      <td>a</td>\n",
       "      <td>2020-07-29</td>\n",
       "    </tr>\n",
       "    <tr>\n",
       "      <th>2</th>\n",
       "      <td>2.0</td>\n",
       "      <td>b</td>\n",
       "      <td>2020-07-30</td>\n",
       "    </tr>\n",
       "    <tr>\n",
       "      <th>3</th>\n",
       "      <td>NaN</td>\n",
       "      <td>b</td>\n",
       "      <td>2020-07-31</td>\n",
       "    </tr>\n",
       "    <tr>\n",
       "      <th>4</th>\n",
       "      <td>4.0</td>\n",
       "      <td>c</td>\n",
       "      <td>2020-07-28</td>\n",
       "    </tr>\n",
       "    <tr>\n",
       "      <th>5</th>\n",
       "      <td>5.0</td>\n",
       "      <td>a</td>\n",
       "      <td>2020-08-28</td>\n",
       "    </tr>\n",
       "    <tr>\n",
       "      <th>6</th>\n",
       "      <td>NaN</td>\n",
       "      <td>NaN</td>\n",
       "      <td>NaN</td>\n",
       "    </tr>\n",
       "    <tr>\n",
       "      <th>7</th>\n",
       "      <td>NaN</td>\n",
       "      <td>NaN</td>\n",
       "      <td>NaN</td>\n",
       "    </tr>\n",
       "  </tbody>\n",
       "</table>\n",
       "</div>"
      ],
      "text/plain": [
       "   value user        date\n",
       "0    3.0    a  2020-07-28\n",
       "1    1.0    a  2020-07-29\n",
       "2    2.0    b  2020-07-30\n",
       "3    NaN    b  2020-07-31\n",
       "4    4.0    c  2020-07-28\n",
       "5    5.0    a  2020-08-28\n",
       "6    NaN  NaN         NaN\n",
       "7    NaN  NaN         NaN"
      ]
     },
     "execution_count": 19,
     "metadata": {},
     "output_type": "execute_result"
    }
   ],
   "source": [
    "# Command without replacement\n",
    "copy.mask(cond=copy.value > 5)"
   ]
  },
  {
   "cell_type": "code",
   "execution_count": 20,
   "id": "39a82adb",
   "metadata": {},
   "outputs": [
    {
     "data": {
      "text/html": [
       "<div>\n",
       "<style scoped>\n",
       "    .dataframe tbody tr th:only-of-type {\n",
       "        vertical-align: middle;\n",
       "    }\n",
       "\n",
       "    .dataframe tbody tr th {\n",
       "        vertical-align: top;\n",
       "    }\n",
       "\n",
       "    .dataframe thead th {\n",
       "        text-align: right;\n",
       "    }\n",
       "</style>\n",
       "<table border=\"1\" class=\"dataframe\">\n",
       "  <thead>\n",
       "    <tr style=\"text-align: right;\">\n",
       "      <th></th>\n",
       "      <th>value</th>\n",
       "      <th>user</th>\n",
       "      <th>date</th>\n",
       "    </tr>\n",
       "  </thead>\n",
       "  <tbody>\n",
       "    <tr>\n",
       "      <th>0</th>\n",
       "      <td>3.0</td>\n",
       "      <td>a</td>\n",
       "      <td>2020-07-28</td>\n",
       "    </tr>\n",
       "    <tr>\n",
       "      <th>1</th>\n",
       "      <td>1.0</td>\n",
       "      <td>a</td>\n",
       "      <td>2020-07-29</td>\n",
       "    </tr>\n",
       "    <tr>\n",
       "      <th>2</th>\n",
       "      <td>2.0</td>\n",
       "      <td>b</td>\n",
       "      <td>2020-07-30</td>\n",
       "    </tr>\n",
       "    <tr>\n",
       "      <th>3</th>\n",
       "      <td>NaN</td>\n",
       "      <td>b</td>\n",
       "      <td>2020-07-31</td>\n",
       "    </tr>\n",
       "    <tr>\n",
       "      <th>4</th>\n",
       "      <td>4.0</td>\n",
       "      <td>c</td>\n",
       "      <td>2020-07-28</td>\n",
       "    </tr>\n",
       "    <tr>\n",
       "      <th>5</th>\n",
       "      <td>5.0</td>\n",
       "      <td>a</td>\n",
       "      <td>2020-08-28</td>\n",
       "    </tr>\n",
       "    <tr>\n",
       "      <th>6</th>\n",
       "      <td>yeti</td>\n",
       "      <td>yeti</td>\n",
       "      <td>yeti</td>\n",
       "    </tr>\n",
       "    <tr>\n",
       "      <th>7</th>\n",
       "      <td>yeti</td>\n",
       "      <td>yeti</td>\n",
       "      <td>yeti</td>\n",
       "    </tr>\n",
       "  </tbody>\n",
       "</table>\n",
       "</div>"
      ],
      "text/plain": [
       "  value  user        date\n",
       "0   3.0     a  2020-07-28\n",
       "1   1.0     a  2020-07-29\n",
       "2   2.0     b  2020-07-30\n",
       "3   NaN     b  2020-07-31\n",
       "4   4.0     c  2020-07-28\n",
       "5   5.0     a  2020-08-28\n",
       "6  yeti  yeti        yeti\n",
       "7  yeti  yeti        yeti"
      ]
     },
     "execution_count": 20,
     "metadata": {},
     "output_type": "execute_result"
    }
   ],
   "source": [
    "# Command with replacement\n",
    "copy.mask(cond=copy.value > 5, other='yeti')"
   ]
  },
  {
   "cell_type": "markdown",
   "id": "04c20653",
   "metadata": {},
   "source": [
    "#### `Shift`\n",
    "\n",
    "This command helps us shift elements in a `DataFrame`. It is useful for variable generation and to avoid a phenomenon known as `leakage` (we will address it in detail later)."
   ]
  },
  {
   "cell_type": "code",
   "execution_count": 21,
   "id": "ee8d26ee",
   "metadata": {},
   "outputs": [
    {
     "data": {
      "text/plain": [
       "0    NaN\n",
       "1    3.0\n",
       "2    1.0\n",
       "3    2.0\n",
       "4    NaN\n",
       "5    4.0\n",
       "6    5.0\n",
       "7    7.0\n",
       "Name: value, dtype: float64"
      ]
     },
     "execution_count": 21,
     "metadata": {},
     "output_type": "execute_result"
    }
   ],
   "source": [
    "df['value'].shift()"
   ]
  },
  {
   "cell_type": "markdown",
   "id": "d5be06db",
   "metadata": {},
   "source": [
    "#### `Expanding`\n",
    "\n",
    "As the name suggests, this command expands over a minimum of `n` periods before generating a calculation.\n",
    "\n",
    "If subsequent calculations are applied..."
   ]
  },
  {
   "cell_type": "code",
   "execution_count": 22,
   "id": "59cdfb9a",
   "metadata": {},
   "outputs": [
    {
     "data": {
      "text/plain": [
       "Expanding [min_periods=1,center=False,axis=0,method=single]"
      ]
     },
     "execution_count": 22,
     "metadata": {},
     "output_type": "execute_result"
    }
   ],
   "source": [
    "df['value'].expanding(min_periods=1)"
   ]
  },
  {
   "cell_type": "code",
   "execution_count": 23,
   "id": "11a309d3",
   "metadata": {},
   "outputs": [
    {
     "data": {
      "text/plain": [
       "0    3.000000\n",
       "1    2.000000\n",
       "2    2.000000\n",
       "3    2.000000\n",
       "4    2.500000\n",
       "5    3.000000\n",
       "6    3.666667\n",
       "7    4.428571\n",
       "Name: value, dtype: float64"
      ]
     },
     "execution_count": 23,
     "metadata": {},
     "output_type": "execute_result"
    }
   ],
   "source": [
    "df['value'].expanding(min_periods=1).mean()"
   ]
  },
  {
   "cell_type": "code",
   "execution_count": 24,
   "id": "3fa88ca6",
   "metadata": {},
   "outputs": [
    {
     "data": {
      "text/plain": [
       "0         NaN\n",
       "1    2.000000\n",
       "2    2.000000\n",
       "3    2.000000\n",
       "4    2.500000\n",
       "5    3.000000\n",
       "6    3.666667\n",
       "7    4.428571\n",
       "Name: value, dtype: float64"
      ]
     },
     "execution_count": 24,
     "metadata": {},
     "output_type": "execute_result"
    }
   ],
   "source": [
    "df['value'].expanding(min_periods=2).mean()"
   ]
  },
  {
   "cell_type": "markdown",
   "id": "41aaeb2b",
   "metadata": {},
   "source": [
    "This command will not perform the calculation with only the `min_periods` parameter but with _at least `min_periods`_. "
   ]
  },
  {
   "cell_type": "markdown",
   "id": "0716b49d",
   "metadata": {},
   "source": [
    "#### `Apply`\n",
    "\n",
    "This command allows us to apply functions to a series of rows and/or columns without the need for loops.\n",
    "\n",
    "As an _input_, we can use predefined functions or `lambda` functions.\n",
    "\n",
    "`Lambda` functions are local functions that can only be used on the line of code where they exist; they are used temporarily."
   ]
  },
  {
   "cell_type": "code",
   "execution_count": 25,
   "id": "1a382437",
   "metadata": {},
   "outputs": [
    {
     "data": {
      "text/plain": [
       "0    3.0\n",
       "1    1.0\n",
       "2    2.0\n",
       "3    NaN\n",
       "4    4.0\n",
       "5    5.0\n",
       "6    7.0\n",
       "7    9.0\n",
       "Name: value, dtype: float64"
      ]
     },
     "execution_count": 25,
     "metadata": {},
     "output_type": "execute_result"
    }
   ],
   "source": [
    "df['value']"
   ]
  },
  {
   "cell_type": "code",
   "execution_count": 26,
   "id": "13da04ba",
   "metadata": {},
   "outputs": [
    {
     "data": {
      "text/plain": [
       "0     9.0\n",
       "1     1.0\n",
       "2     4.0\n",
       "3     NaN\n",
       "4    16.0\n",
       "5    25.0\n",
       "6    49.0\n",
       "7    81.0\n",
       "Name: value, dtype: float64"
      ]
     },
     "execution_count": 26,
     "metadata": {},
     "output_type": "execute_result"
    }
   ],
   "source": [
    "# using lambda\n",
    "df['value'].apply(lambda x: x ** 2)"
   ]
  },
  {
   "cell_type": "code",
   "execution_count": 27,
   "id": "ef6694c1",
   "metadata": {},
   "outputs": [
    {
     "data": {
      "text/plain": [
       "0     9.0\n",
       "1     1.0\n",
       "2     4.0\n",
       "3     NaN\n",
       "4    16.0\n",
       "5    25.0\n",
       "6    49.0\n",
       "7    81.0\n",
       "Name: value, dtype: float64"
      ]
     },
     "execution_count": 27,
     "metadata": {},
     "output_type": "execute_result"
    }
   ],
   "source": [
    "# in a function\n",
    "def cuadrado(x):\n",
    "    return x**2\n",
    "\n",
    "# Apply\n",
    "df['value'].apply(cuadrado)"
   ]
  },
  {
   "cell_type": "markdown",
   "id": "bf98c6ef",
   "metadata": {},
   "source": [
    "### Plots with Pandas\n",
    "\n",
    "`Pandas` also allows us to generate plots very easily.\n",
    "\n",
    "Let's plot the `value` column next."
   ]
  },
  {
   "cell_type": "code",
   "execution_count": 28,
   "id": "94c13684",
   "metadata": {},
   "outputs": [
    {
     "data": {
      "text/plain": [
       "<Axes: title={'center': 'value'}>"
      ]
     },
     "execution_count": 28,
     "metadata": {},
     "output_type": "execute_result"
    },
    {
     "data": {
      "image/png": "[encoded data removed]",
      "text/plain": [
       "<Figure size 640x480 with 1 Axes>"
      ]
     },
     "metadata": {},
     "output_type": "display_data"
    }
   ],
   "source": [
    "df.value.plot(\n",
    "    kind = 'line',\n",
    "    marker = 'o',\n",
    "    color = 'blue',\n",
    "    title = 'value',\n",
    "    grid=True\n",
    ")"
   ]
  },
  {
   "cell_type": "markdown",
   "id": "a7d187c1",
   "metadata": {},
   "source": [
    "### Numpy \n",
    "\n",
    "Numpy is a library that allows us to create arrays of different types (vectors, matrices), and it also has various implementations for generating random numbers or performing basic operations (averages, correlations, etc.).\n",
    "\n",
    "Numpy uses the _array_ as its basic structure, which, according to its documentation, is faster to access and uses fewer resources than the classic Python list.\n",
    "\n",
    "Reference: [Numpy Documentation](https://numpy.org/doc/stable/) Repository: [Numpy GitHub](https://github.com/numpy/numpy)"
   ]
  },
  {
   "cell_type": "code",
   "execution_count": 29,
   "id": "b6eee50c",
   "metadata": {},
   "outputs": [
    {
     "data": {
      "text/plain": [
       "array([1, 2, 3, 4, 5])"
      ]
     },
     "execution_count": 29,
     "metadata": {},
     "output_type": "execute_result"
    }
   ],
   "source": [
    "# Import the library\n",
    "import numpy as np\n",
    "\n",
    "# Generate an array\n",
    "array = np.array([1, 2, 3, 4, 5])\n",
    "array"
   ]
  },
  {
   "cell_type": "code",
   "execution_count": 30,
   "id": "19792429",
   "metadata": {},
   "outputs": [
    {
     "data": {
      "text/plain": [
       "3.0"
      ]
     },
     "execution_count": 30,
     "metadata": {},
     "output_type": "execute_result"
    }
   ],
   "source": [
    "# mean\n",
    "np.mean(array)"
   ]
  },
  {
   "cell_type": "code",
   "execution_count": 31,
   "id": "1924b0bd",
   "metadata": {},
   "outputs": [
    {
     "data": {
      "text/plain": [
       "3.0"
      ]
     },
     "execution_count": 31,
     "metadata": {},
     "output_type": "execute_result"
    }
   ],
   "source": [
    "# median:\n",
    "np.median(array)"
   ]
  },
  {
   "cell_type": "markdown",
   "id": "8002e942",
   "metadata": {},
   "source": [
    "We can think of a matrix as a series of arrays (`array`). There are different ways to generate them, but for now, we'll stick with this one.\n"
   ]
  },
  {
   "cell_type": "code",
   "execution_count": 32,
   "id": "1aa1fcc4",
   "metadata": {},
   "outputs": [
    {
     "data": {
      "text/plain": [
       "array([[1, 2, 3],\n",
       "       [4, 5, 6]])"
      ]
     },
     "execution_count": 32,
     "metadata": {},
     "output_type": "execute_result"
    }
   ],
   "source": [
    "# matrix\n",
    "matrix = np.array([[1,2,3],[4,5,6]])\n",
    "matrix"
   ]
  },
  {
   "cell_type": "markdown",
   "id": "2d79bdd3",
   "metadata": {},
   "source": [
    "Just like in Pandas, we can access the matrix row by row and column by column."
   ]
  },
  {
   "cell_type": "code",
   "execution_count": 33,
   "id": "7a603f03",
   "metadata": {},
   "outputs": [
    {
     "data": {
      "text/plain": [
       "2"
      ]
     },
     "execution_count": 33,
     "metadata": {},
     "output_type": "execute_result"
    }
   ],
   "source": [
    "# Acces the matrix\n",
    "matrix[0,1]"
   ]
  },
  {
   "cell_type": "markdown",
   "id": "b5c8a1d9",
   "metadata": {},
   "source": [
    "Numpy is a library that has many tools, one of them being the generation of random numbers.\n",
    "\n",
    "This involves knowledge of probability and statistics. For now, we will only use the implementation without going into the details or the distribution shape."
   ]
  },
  {
   "cell_type": "code",
   "execution_count": 34,
   "id": "1822d41f",
   "metadata": {},
   "outputs": [
    {
     "data": {
      "text/plain": [
       "array([ 1.10855471e-03, -2.89544069e-01, -1.11606630e+00, -1.28827567e-02,\n",
       "       -3.78361464e-01, -4.81135363e-01, -1.51733118e+00, -4.90871981e-01,\n",
       "       -2.40680579e-01, -6.47947460e-01,  6.35891080e-01,  1.74011731e+00,\n",
       "        2.96682218e-01,  7.07503662e-01,  1.82281576e+00,  4.30769029e-01,\n",
       "        1.54272963e+00, -9.00721171e-01, -1.37125010e-01,  1.29757901e+00,\n",
       "        6.75271167e-01,  3.19581170e-02,  9.18145896e-01,  3.80509466e-01,\n",
       "        5.16367487e-01, -3.55239458e-01,  2.08777001e-01,  3.28411076e-01,\n",
       "       -4.98224766e-01, -2.09177677e+00, -8.25877406e-02,  2.45518265e+00,\n",
       "       -2.67211000e+00, -9.13279281e-01, -2.27314357e-01,  2.69315377e-01,\n",
       "        1.13046126e+00,  1.04239745e+00,  1.30381044e+00,  1.38940073e+00,\n",
       "       -6.56452578e-01, -5.62572959e-02, -4.99902620e-01,  4.36419381e-01,\n",
       "       -3.75813047e-01, -9.23061583e-01,  1.91725024e+00, -1.50302842e-01,\n",
       "       -6.38729756e-01,  8.24770331e-01, -1.21083874e+00, -5.03405377e-01,\n",
       "       -7.01915693e-01, -1.97427103e+00, -2.65573217e+00, -5.76822488e-02,\n",
       "       -6.56186586e-01, -6.61706713e-01,  7.69348439e-01, -8.99004892e-01,\n",
       "        1.69363792e+00, -1.69733524e+00, -2.79337021e+00, -2.26150651e-01,\n",
       "        3.97428841e-01,  1.65970362e+00, -4.93746814e-01, -3.76097684e-01,\n",
       "       -1.69739770e-01,  2.41710632e+00, -1.80884049e+00,  3.39751152e-01,\n",
       "       -2.27297604e-02, -9.59997079e-01, -3.83114421e-01,  1.09529995e-01,\n",
       "       -8.55162838e-01,  2.21606664e-04,  6.63855061e-01,  7.49480948e-01,\n",
       "       -4.65818372e-01, -2.77439271e-01,  3.54995339e-02,  8.48221165e-01,\n",
       "        1.62998557e-01,  1.20862361e+00,  5.02520774e-01, -1.58382211e+00,\n",
       "        1.02303349e+00, -6.53017409e-01,  5.37045101e-01, -7.97706235e-03,\n",
       "        9.24784170e-01,  4.66083330e-02,  1.42019868e-01, -1.65366138e+00,\n",
       "        1.36799210e+00,  2.51062457e-02, -3.95482251e-01,  1.28438755e+00])"
      ]
     },
     "execution_count": 34,
     "metadata": {},
     "output_type": "execute_result"
    }
   ],
   "source": [
    "# Generating a distribution of 100 random numbers ~N(0, 1)\n",
    "# Setting a seed\n",
    "np.random.seed(9)\n",
    "\n",
    "# Generating the numbers\n",
    "random_numbers = np.random.normal(size=100)\n",
    "random_numbers"
   ]
  },
  {
   "cell_type": "code",
   "execution_count": 35,
   "id": "f7297ce0",
   "metadata": {},
   "outputs": [
    {
     "data": {
      "text/plain": [
       "-0.012854169546612275"
      ]
     },
     "execution_count": 35,
     "metadata": {},
     "output_type": "execute_result"
    }
   ],
   "source": [
    "np.mean(random_numbers)"
   ]
  },
  {
   "cell_type": "code",
   "execution_count": 36,
   "id": "40e18be4",
   "metadata": {},
   "outputs": [
    {
     "data": {
      "text/plain": [
       "1.0452320988940695"
      ]
     },
     "execution_count": 36,
     "metadata": {},
     "output_type": "execute_result"
    }
   ],
   "source": [
    "np.std(random_numbers)"
   ]
  },
  {
   "cell_type": "markdown",
   "id": "241154ea",
   "metadata": {},
   "source": [
    "Let's do a quick time benchmark for the average over a list of 100,000 elements."
   ]
  },
  {
   "cell_type": "code",
   "execution_count": 37,
   "id": "d3f4f9dd",
   "metadata": {},
   "outputs": [
    {
     "name": "stdout",
     "output_type": "stream",
     "text": [
      "The time for the list of 100000 elements is: 0.00850367546081543\n",
      "The time for the array of 100000 elements is: 0.0\n"
     ]
    }
   ],
   "source": [
    "n = 100000\n",
    "random_numbers = np.random.normal(size=n)\n",
    "random_numbers_list = list(np.random.normal(size=n))\n",
    "\n",
    "# Import library for measuring time\n",
    "import time\n",
    "\n",
    "\n",
    "tic = time.time()\n",
    "np.mean(random_numbers_list)\n",
    "toc = time.time()\n",
    "\n",
    "measurement = toc - tic\n",
    "\n",
    "print(f'The time for the list of {n} elements is: {measurement}')\n",
    "\n",
    "tic = time.time()\n",
    "np.mean(random_numbers)\n",
    "toc = time.time()\n",
    "\n",
    "measurement = toc - tic\n",
    "\n",
    "print(f'The time for the array of {n} elements is: {measurement}')"
   ]
  },
  {
   "cell_type": "markdown",
   "id": "fd890e37",
   "metadata": {},
   "source": [
    "### Matplotlib\n",
    "\n",
    "Matplotlib is a library that allows us, as its name suggests, to plot various types of figures, from time series to histograms, boxplots, etc.\n",
    "\n",
    "To generate the plots, there are two \"common\" ways to do it, using `ax` or using `plt` directly.\n",
    "\n",
    "More information: [Matplotlib Documentation](https://matplotlib.org/) Repo: [Matplotlib GitHub](https://github.com/matplotlib/matplotlib)\n"
   ]
  },
  {
   "cell_type": "code",
   "execution_count": 38,
   "id": "a2d53497",
   "metadata": {},
   "outputs": [
    {
     "data": {
      "text/plain": [
       "<matplotlib.legend.Legend at 0x254b73eb910>"
      ]
     },
     "execution_count": 38,
     "metadata": {},
     "output_type": "execute_result"
    },
    {
     "data": {
      "image/png": "[encoded data removed]",
      "text/plain": [
       "<Figure size 1000x1000 with 1 Axes>"
      ]
     },
     "metadata": {},
     "output_type": "display_data"
    }
   ],
   "source": [
    "# Import the library\n",
    "import matplotlib.pyplot as plt\n",
    "\n",
    "# Defining the figures.\n",
    "fig, ax = plt.subplots(nrows=1, ncols=1, figsize=(10, 10))\n",
    "\n",
    "# Generating the line\n",
    "ax.plot(random_numbers, color='blue', label='N(0,1)')\n",
    "\n",
    "# Generating a grid\n",
    "ax.grid()\n",
    "\n",
    "# Adding legend\n",
    "ax.legend()"
   ]
  },
  {
   "cell_type": "code",
   "execution_count": 39,
   "id": "5be44580",
   "metadata": {},
   "outputs": [
    {
     "data": {
      "image/png": "[encoded data removed]",
      "text/plain": [
       "<Figure size 1000x1000 with 1 Axes>"
      ]
     },
     "metadata": {},
     "output_type": "display_data"
    }
   ],
   "source": [
    "# Using plt\n",
    "\n",
    "# Define figure\n",
    "plt.figure(figsize=(10, 10))\n",
    "\n",
    "# Generate the line\n",
    "plt.plot(random_numbers, color='blue', label='N(0,1)')\n",
    "\n",
    "# Add legend\n",
    "plt.legend()\n",
    "\n",
    "# Add grid\n",
    "plt.grid()"
   ]
  }
 ],
 "metadata": {
  "kernelspec": {
   "display_name": "Python 3 (ipykernel)",
   "language": "python",
   "name": "python3"
  },
  "language_info": {
   "codemirror_mode": {
    "name": "ipython",
    "version": 3
   },
   "file_extension": ".py",
   "mimetype": "text/x-python",
   "name": "python",
   "nbconvert_exporter": "python",
   "pygments_lexer": "ipython3",
   "version": "3.10.9"
  }
 },
 "nbformat": 4,
 "nbformat_minor": 5
}
